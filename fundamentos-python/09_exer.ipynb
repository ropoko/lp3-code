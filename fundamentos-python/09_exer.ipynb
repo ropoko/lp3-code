{
  "cells": [
    {
      "cell_type": "markdown",
      "metadata": {
        "id": "MIXmEXC0uTQv"
      },
      "source": [
        "# Desafio"
      ]
    },
    {
      "cell_type": "markdown",
      "metadata": {
        "id": "SuEs1HtfuTQy"
      },
      "source": [
        "Crie uma função que ao receber uma `string` retorne apenas os caracteres únicos que nela constam.\n",
        "Exemplo:\n",
        "\n",
        "    * `entrada`: 'abba' \n",
        "    * `saída`: 'ab'"
      ]
    },
    {
      "cell_type": "code",
      "execution_count": null,
      "metadata": {
        "colab": {
          "base_uri": "https://localhost:8080/",
          "height": 35
        },
        "id": "TkVtcqo9uTQz",
        "outputId": "d486d61f-83e0-48af-8f95-670ad7d28b51"
      },
      "outputs": [
        {
          "output_type": "execute_result",
          "data": {
            "text/plain": [
              "'ab'"
            ],
            "application/vnd.google.colaboratory.intrinsic+json": {
              "type": "string"
            }
          },
          "metadata": {},
          "execution_count": 11
        }
      ],
      "source": [
        "def unique_char(text: str) -> str:\n",
        "  # trazendo os caracteres separadamente - return set(text)\n",
        "  unique = [a for a in set(text)]\n",
        "  response = ''.join(unique)\n",
        "  return response\n",
        "\n",
        "unique_char('abba')"
      ]
    },
    {
      "cell_type": "markdown",
      "metadata": {
        "id": "lTHqL_O_uTQ0"
      },
      "source": [
        "# Exercícios"
      ]
    },
    {
      "cell_type": "markdown",
      "metadata": {
        "id": "FE01V1DWuTQ1"
      },
      "source": [
        "1.1. Calcule a área de um círculo de raio 2. Assuma *pi = 3.14*. "
      ]
    },
    {
      "cell_type": "code",
      "execution_count": null,
      "metadata": {
        "colab": {
          "base_uri": "https://localhost:8080/",
          "height": 35
        },
        "id": "jYlqPyyjuTQ2",
        "outputId": "1f8b83a7-b1c8-40c5-ff4a-a78f0a2e5d0f"
      },
      "outputs": [
        {
          "output_type": "execute_result",
          "data": {
            "text/plain": [
              "'78.54'"
            ],
            "application/vnd.google.colaboratory.intrinsic+json": {
              "type": "string"
            }
          },
          "metadata": {},
          "execution_count": 18
        }
      ],
      "source": [
        "import math\n",
        "\n",
        "def circle_area(r: int) -> float:\n",
        "  res = math.pi * r ** 2\n",
        "  return f'{res:.2f}'\n",
        "\n",
        "circle_area(5)"
      ]
    },
    {
      "cell_type": "markdown",
      "metadata": {
        "id": "6Ji7wKZjuTQ2"
      },
      "source": [
        "1.2. Escreva uma função que verifica se um número é par. Se for, imprima uma mensagem. Se não for, imprima outra mensagem."
      ]
    },
    {
      "cell_type": "code",
      "execution_count": null,
      "metadata": {
        "colab": {
          "base_uri": "https://localhost:8080/"
        },
        "id": "k7euT9upuTQ3",
        "outputId": "e3270142-9cea-4944-9944-e67b7efb7ab6"
      },
      "outputs": [
        {
          "output_type": "stream",
          "name": "stdout",
          "text": [
            "numero é ímpar\n"
          ]
        },
        {
          "output_type": "execute_result",
          "data": {
            "text/plain": [
              "False"
            ]
          },
          "metadata": {},
          "execution_count": 21
        }
      ],
      "source": [
        "def is_odd(number: int) -> bool:\n",
        "  if number % 2 == 0:\n",
        "    print('numero é par')\n",
        "    return True\n",
        "  else:\n",
        "    print('numero é ímpar')\n",
        "    return False\n",
        "\n",
        "is_odd(3)"
      ]
    },
    {
      "cell_type": "markdown",
      "metadata": {
        "id": "SwYTYQLduTQ3"
      },
      "source": [
        "1.3. No exercício acima, se o número for par, verifique se ele é múltiplo de 4. Se for, exiba uma mensagem diferente."
      ]
    },
    {
      "cell_type": "code",
      "execution_count": null,
      "metadata": {
        "colab": {
          "base_uri": "https://localhost:8080/"
        },
        "id": "8JeJjHeyuTQ4",
        "outputId": "6f75a5d8-1ede-4701-9898-bbf774dc7555"
      },
      "outputs": [
        {
          "output_type": "stream",
          "name": "stdout",
          "text": [
            "numero é ímpar\n"
          ]
        }
      ],
      "source": [
        "def is_multiple_four(number: int) -> bool:\n",
        "  if number % 4 == 0:\n",
        "    print('número é múltiplo de 4')\n",
        "    return True\n",
        "  else:\n",
        "    print('número não é múltiplo de 4')\n",
        "    return False\n",
        "\n",
        "if is_odd(5):\n",
        "  is_multiple_four(5)"
      ]
    },
    {
      "cell_type": "markdown",
      "metadata": {
        "id": "U-XKZsWluTQ4"
      },
      "source": [
        "1.4. Escreva um código que imprima os elementos menores que 5 na seguinte lista:"
      ]
    },
    {
      "cell_type": "code",
      "execution_count": null,
      "metadata": {
        "colab": {
          "base_uri": "https://localhost:8080/"
        },
        "id": "LMmGnBLnuTQ5",
        "outputId": "4fe9a016-e005-422e-aa06-c62b0f3cbad8"
      },
      "outputs": [
        {
          "output_type": "stream",
          "name": "stdout",
          "text": [
            "[1, 4, 2, 3, 2, 1, -1, 0]\n"
          ]
        }
      ],
      "source": [
        "a = [1, 4, 2, 3, 2, 1, 5, 8, 5, 7, -1, 0, 23]\n",
        "\n",
        "res = []\n",
        "\n",
        "for el in a:\n",
        "  if el < 5:\n",
        "    res.append(el)\n",
        "else:\n",
        "  print(res)"
      ]
    },
    {
      "cell_type": "markdown",
      "metadata": {
        "id": "fKJn3IIHuTQ5"
      },
      "source": [
        "1.5. Escreva um código que encontra todos os divisores do número 42."
      ]
    },
    {
      "cell_type": "code",
      "execution_count": null,
      "metadata": {
        "colab": {
          "base_uri": "https://localhost:8080/"
        },
        "id": "ALtYETGeuTQ5",
        "outputId": "ade04e94-c3d4-45e1-fb1e-4f0ff4d3cba8"
      },
      "outputs": [
        {
          "output_type": "stream",
          "name": "stdout",
          "text": [
            "[1, 2, 3, 6, 7, 14, 21, 42]\n"
          ]
        }
      ],
      "source": [
        "cont = 1\n",
        "\n",
        "res = []\n",
        "\n",
        "while cont <= 42:\n",
        "  if 42 % cont == 0:\n",
        "    res.append(cont)\n",
        "\n",
        "  cont += 1\n",
        "else:\n",
        "  print(res)"
      ]
    },
    {
      "cell_type": "markdown",
      "metadata": {
        "id": "HrknePmYuTQ5"
      },
      "source": [
        "1.6. Calcule a multiplicação das duas matrizes abaixo sem usar laços:"
      ]
    },
    {
      "cell_type": "code",
      "execution_count": 12,
      "metadata": {
        "colab": {
          "base_uri": "https://localhost:8080/"
        },
        "id": "W7enWuj3uTQ5",
        "outputId": "3db759c0-cfd5-42d4-f9d0-d248b3fe6ee0"
      },
      "outputs": [
        {
          "output_type": "stream",
          "name": "stdout",
          "text": [
            "2\n",
            "3\n",
            "4\n",
            "2\n"
          ]
        }
      ],
      "source": [
        "a = [[2, 3], [4, 2]]\n",
        "b = [[2, 0], [1, 2]]"
      ]
    },
    {
      "cell_type": "markdown",
      "metadata": {
        "id": "jIYZ7OVbuTQ6"
      },
      "source": [
        "1.7. Calcule a multiplicação das duas matrizes acima usando laços"
      ]
    },
    {
      "cell_type": "code",
      "execution_count": null,
      "metadata": {
        "id": "kG1XpY62uTQ6"
      },
      "outputs": [],
      "source": [
        "pass"
      ]
    },
    {
      "cell_type": "markdown",
      "metadata": {
        "id": "h8MflGPTuTQ6"
      },
      "source": [
        "1.8. Calcule o fatorial de 5 usando algum tipo de laço."
      ]
    },
    {
      "cell_type": "code",
      "execution_count": 22,
      "metadata": {
        "id": "ws-PSC6euTQ6",
        "outputId": "4fe919fe-b301-4e8b-b46f-c5d28adc8c24",
        "colab": {
          "base_uri": "https://localhost:8080/"
        }
      },
      "outputs": [
        {
          "output_type": "stream",
          "name": "stdout",
          "text": [
            "5! = 120\n"
          ]
        }
      ],
      "source": [
        "response = 1\n",
        "\n",
        "for i in range(1,6):\n",
        "  response *= i\n",
        "\n",
        "print(f'5! = {response}')"
      ]
    },
    {
      "cell_type": "markdown",
      "metadata": {
        "id": "3tSi1BdOuTQ6"
      },
      "source": [
        "1.9. Dada uma variável $X \\sim N(0, 4)$, calcule o valor da fdp para o valor 2."
      ]
    },
    {
      "cell_type": "code",
      "execution_count": null,
      "metadata": {
        "id": "-GutMyCQuTQ7"
      },
      "outputs": [],
      "source": [
        "pass"
      ]
    },
    {
      "cell_type": "markdown",
      "metadata": {
        "id": "TilLi5S0uTQ7"
      },
      "source": [
        "1.10. Calcule a distância Euclidiana dos seguintes vetores:"
      ]
    },
    {
      "cell_type": "code",
      "execution_count": 23,
      "metadata": {
        "id": "mCu7xTl4uTQ7",
        "outputId": "a8bec3d3-f15a-4893-a0da-1f3066566fd1",
        "colab": {
          "base_uri": "https://localhost:8080/"
        }
      },
      "outputs": [
        {
          "output_type": "stream",
          "name": "stdout",
          "text": [
            "3.4641016151377544\n"
          ]
        }
      ],
      "source": [
        "from math import dist\n",
        "\n",
        "a, b = [1, 0, 1], [-1, 2, 3]\n",
        "\n",
        "print(dist(a,b))"
      ]
    },
    {
      "cell_type": "markdown",
      "metadata": {
        "id": "QrFJFEnouTQ7"
      },
      "source": [
        "1.11. Imprima as potências de 2, começando em $2^0$, enquanto o resultado for menor do que 2000."
      ]
    },
    {
      "cell_type": "code",
      "execution_count": 29,
      "metadata": {
        "id": "VZaJ6pOKuTQ7",
        "outputId": "6cb9c068-b00b-42ad-90cd-e9382185daa8",
        "colab": {
          "base_uri": "https://localhost:8080/"
        }
      },
      "outputs": [
        {
          "output_type": "stream",
          "name": "stdout",
          "text": [
            "2 ** 0 = 1\n",
            "2 ** 1 = 2\n",
            "2 ** 2 = 4\n",
            "2 ** 3 = 8\n",
            "2 ** 4 = 16\n",
            "2 ** 5 = 32\n",
            "2 ** 6 = 64\n",
            "2 ** 7 = 128\n",
            "2 ** 8 = 256\n",
            "2 ** 9 = 512\n",
            "2 ** 10 = 1024\n",
            "2 ** 11 = 2048\n"
          ]
        }
      ],
      "source": [
        "pow = 0\n",
        "response = 0\n",
        "\n",
        "while response < 2000:\n",
        "  response = 2 ** pow\n",
        "\n",
        "  print(f'2 ** {pow} = {response}')\n",
        "\n",
        "  pow += 1\n"
      ]
    },
    {
      "cell_type": "markdown",
      "metadata": {
        "id": "T6YDtbiquTQ7"
      },
      "source": [
        "1.12. Verifique se o número 79 é primo."
      ]
    },
    {
      "cell_type": "code",
      "execution_count": 36,
      "metadata": {
        "id": "g6QvGtX-uTQ8",
        "outputId": "da0ebbba-0f6e-49ff-b6f6-c0d887217d01",
        "colab": {
          "base_uri": "https://localhost:8080/"
        }
      },
      "outputs": [
        {
          "output_type": "execute_result",
          "data": {
            "text/plain": [
              "False"
            ]
          },
          "metadata": {},
          "execution_count": 36
        }
      ],
      "source": [
        "def is_prime(number: int) -> bool:\n",
        "  prime_flag = True\n",
        "\n",
        "  if number == 1:\n",
        "    return False\n",
        "  elif number > 1:\n",
        "    for i in range(2, number):\n",
        "      if (number % i) == 0:\n",
        "        prime_flag = False\n",
        "        break\n",
        "\n",
        "    return prime_flag\n",
        "\n",
        "is_prime(79)"
      ]
    },
    {
      "cell_type": "markdown",
      "metadata": {
        "id": "DkWNYbrVuTQ8"
      },
      "source": [
        "1.13. Escreva uma linha de código Python que gere uma lista apenas com os valores divisíveis por 2 e por 5 na lista abaixo:"
      ]
    },
    {
      "cell_type": "code",
      "execution_count": 39,
      "metadata": {
        "id": "51u8Nr-7uTQ8",
        "outputId": "874f0fba-f512-46bb-9949-ec9020fc82fd",
        "colab": {
          "base_uri": "https://localhost:8080/"
        }
      },
      "outputs": [
        {
          "output_type": "stream",
          "name": "stdout",
          "text": [
            "divisiveis por 2 -> [4, 10, 16, 20, 28, 30]\n",
            "divisiveis por 5 -> [10, 15, 20, 30]\n"
          ]
        }
      ],
      "source": [
        "a = [1, 4, 10, 13, 15, 16, 20, 28, 30]\n",
        "\n",
        "div_two = []\n",
        "\n",
        "div_five = []\n",
        "\n",
        "for val in a:\n",
        "  if val % 2 == 0:\n",
        "    div_two.append(val)\n",
        "\n",
        "  if val % 5 == 0:\n",
        "    div_five.append(val)\n",
        "\n",
        "print(f'divisiveis por 2 -> {[x for x in div_two]}')\n",
        "print(f'divisiveis por 5 -> {[x for x in div_five]}')"
      ]
    },
    {
      "cell_type": "markdown",
      "metadata": {
        "id": "0oo_1N1XuTQ8"
      },
      "source": [
        "1.14. Escreva um laço que resulte no sétimo elemento da [sequência de Fibonacci](https://pt.wikipedia.org/wiki/Sequ%C3%AAncia_de_Fibonacci) (lembrando que em Python os índices começam em 0):"
      ]
    },
    {
      "cell_type": "code",
      "execution_count": 43,
      "metadata": {
        "id": "VeO3H0n2uTQ8",
        "outputId": "7cb62119-9d77-4ec7-e26d-f5028e9ae82b",
        "colab": {
          "base_uri": "https://localhost:8080/"
        }
      },
      "outputs": [
        {
          "output_type": "execute_result",
          "data": {
            "text/plain": [
              "8"
            ]
          },
          "metadata": {},
          "execution_count": 43
        }
      ],
      "source": [
        "def fibonacci_of(n):\n",
        "     if n in {0, 1}:\n",
        "         return n\n",
        "     return fibonacci_of(n - 1) + fibonacci_of(n - 2)\n",
        "\n",
        "fibonacci_of(6)"
      ]
    },
    {
      "cell_type": "markdown",
      "metadata": {
        "id": "XJ24V3l7uTQ8"
      },
      "source": [
        "1.15. Escreva uma função que calcule o raio de um círculo, dado um valor de raio. Peça um valor de raio ao usuário e calcule o valor da função."
      ]
    },
    {
      "cell_type": "code",
      "execution_count": null,
      "metadata": {
        "id": "t9ZmEwnTuTQ9"
      },
      "outputs": [],
      "source": [
        "pass"
      ]
    },
    {
      "cell_type": "markdown",
      "metadata": {
        "id": "WtPpV6tAuTQ9"
      },
      "source": [
        "1.16. Escreva uma função que recebe uma lista e um valor e retorna uma sub-lista apenas com os elementos menores do que o valor fornecido."
      ]
    },
    {
      "cell_type": "code",
      "execution_count": 47,
      "metadata": {
        "id": "2-Ls1RM8uTQ9",
        "outputId": "fafb628b-3d4a-4e03-816a-6ded6fa9c7be",
        "colab": {
          "base_uri": "https://localhost:8080/"
        }
      },
      "outputs": [
        {
          "output_type": "execute_result",
          "data": {
            "text/plain": [
              "[1]"
            ]
          },
          "metadata": {},
          "execution_count": 47
        }
      ],
      "source": [
        "def less_than(values: list, number: int) -> list:\n",
        "  res = []\n",
        "  for val in values:\n",
        "    if number > val:\n",
        "      res.append(val)\n",
        "\n",
        "  return res\n",
        "\n",
        "less_than([1,2,3,4,5,6,7,8], 2)"
      ]
    },
    {
      "cell_type": "markdown",
      "metadata": {
        "id": "I_TptxrRuTQ9"
      },
      "source": [
        "1.17. Escreva uma função que calcula a multiplicação de duas matrizes usando laços, mas apenas se as dimensões das matrizes forem compatíveis."
      ]
    },
    {
      "cell_type": "code",
      "execution_count": null,
      "metadata": {
        "id": "mKhTlYL5uTQ9"
      },
      "outputs": [],
      "source": [
        "pass"
      ]
    },
    {
      "cell_type": "markdown",
      "metadata": {
        "id": "JtlQssKAuTQ9"
      },
      "source": [
        "1.18. Escreva uma função que recebe um número e valores de média e de variância e calcula a fdp das distribuições normais correspondentes às médias e às variâncias fornecidas."
      ]
    },
    {
      "cell_type": "code",
      "execution_count": null,
      "metadata": {
        "id": "Lj_MIsbPuTQ9"
      },
      "outputs": [],
      "source": [
        "pass"
      ]
    },
    {
      "cell_type": "markdown",
      "metadata": {
        "id": "VCfqo2ojuTQ-"
      },
      "source": [
        "1.19. Escreva uma função que verifica se um número é primo."
      ]
    },
    {
      "cell_type": "code",
      "execution_count": null,
      "metadata": {
        "id": "1uhd1IQ2uTQ-"
      },
      "outputs": [],
      "source": [
        "def is_prime(number: int) -> bool:\n",
        "  prime_flag = True\n",
        "\n",
        "  if number == 1:\n",
        "    return False\n",
        "  elif number > 1:\n",
        "    for i in range(2, number):\n",
        "      if (number % i) == 0:\n",
        "        prime_flag = False\n",
        "        break\n",
        "\n",
        "    return prime_flag\n",
        "\n",
        "is_prime(79)"
      ]
    },
    {
      "cell_type": "markdown",
      "metadata": {
        "id": "OXmw7wlMuTQ-"
      },
      "source": [
        "1.20. Faça uma função que retorna todos os divisores de um número."
      ]
    },
    {
      "cell_type": "code",
      "execution_count": 51,
      "metadata": {
        "id": "KagbnPVyuTQ-",
        "outputId": "a0b27460-4203-414c-8f3b-e1c832b83850",
        "colab": {
          "base_uri": "https://localhost:8080/"
        }
      },
      "outputs": [
        {
          "output_type": "execute_result",
          "data": {
            "text/plain": [
              "[1, 2, 5, 10]"
            ]
          },
          "metadata": {},
          "execution_count": 51
        }
      ],
      "source": [
        "def dividers(number: int) -> list:\n",
        "  res = []\n",
        "\n",
        "  for i in range(1, number + 1):\n",
        "    if number % i == 0:\n",
        "      res.append(i)\n",
        "\n",
        "  return res\n",
        "\n",
        "\n",
        "dividers(10)"
      ]
    },
    {
      "cell_type": "markdown",
      "metadata": {
        "id": "AnwK89-guTQ-"
      },
      "source": [
        "1.21. Faça uma função que calcula o fatorial de um número."
      ]
    },
    {
      "cell_type": "code",
      "execution_count": 54,
      "metadata": {
        "id": "dGfyev4_uTQ-",
        "outputId": "b861ef59-63fd-4ce7-d251-83ae4cc3af08",
        "colab": {
          "base_uri": "https://localhost:8080/"
        }
      },
      "outputs": [
        {
          "output_type": "execute_result",
          "data": {
            "text/plain": [
              "6"
            ]
          },
          "metadata": {},
          "execution_count": 54
        }
      ],
      "source": [
        "def factorial(number: int) -> int:\n",
        "  response = 1\n",
        "  \n",
        "  for i in range(1,number + 1):\n",
        "    response *= i\n",
        "\n",
        "  return response\n",
        "\n",
        "factorial(3)"
      ]
    },
    {
      "cell_type": "markdown",
      "metadata": {
        "id": "EThKWwOjuTQ-"
      },
      "source": [
        "1.22. Faça uma função que calcula $P(X = x)$, tal que $X \\sim Binomial(n, p)$. Escreva uma função auxiliar que calcula ${n}\\choose{x}$ para chamar na função principal."
      ]
    },
    {
      "cell_type": "code",
      "execution_count": null,
      "metadata": {
        "id": "TScotphduTQ-"
      },
      "outputs": [],
      "source": [
        "pass"
      ]
    },
    {
      "cell_type": "markdown",
      "metadata": {
        "id": "BuSjM26wuTQ_"
      },
      "source": [
        "1.23. Escreva uma função que calcula $P(X = x)$ ou $P(X <= x)$ (o usuário escolhe), tal que $X \\sim Binomial(n, p)$."
      ]
    },
    {
      "cell_type": "code",
      "execution_count": null,
      "metadata": {
        "id": "rB5VCkuiuTQ_"
      },
      "outputs": [],
      "source": [
        "pass"
      ]
    },
    {
      "cell_type": "markdown",
      "metadata": {
        "id": "kd_6m0QMuTQ_"
      },
      "source": [
        "1.24. Escreva uma função que recebe uma lista, um valor e uma função de comparação e retorna uma sub-lista apenas com os elementos para os quais a função fornecida retorna **True**."
      ]
    },
    {
      "cell_type": "code",
      "execution_count": 55,
      "metadata": {
        "id": "i-IusZd3uTQ_",
        "outputId": "270abf8a-ab35-419c-cea9-98c5720056a6",
        "colab": {
          "base_uri": "https://localhost:8080/"
        }
      },
      "outputs": [
        {
          "output_type": "execute_result",
          "data": {
            "text/plain": [
              "[10]"
            ]
          },
          "metadata": {},
          "execution_count": 55
        }
      ],
      "source": [
        "def compare_list(values: list, number: int, compare) -> list: \n",
        "  sub_list = []\n",
        "\n",
        "  for value in values:\n",
        "    if (compare(value, number) == True):\n",
        "      sub_list.append(value)\n",
        "\n",
        "  return sub_list\n",
        "\n",
        "def fn_compare(value: int, number: int) -> bool:\n",
        "  return value == number\n",
        "\n",
        "compare_list([1,2,3,4,5,6,7,8,9,10,11,12,13,14,15], 10, fn_compare)"
      ]
    },
    {
      "cell_type": "markdown",
      "metadata": {
        "id": "kScN7--XuTQ_"
      },
      "source": [
        "1.25. (Desafio: Recursão). Recursão é uma abordagem para solucionar problemas que envolve dividir a tarefa em partes menores do mesmo tipo, i.e. é uma abordagem do tipo dividir-para-conquistar. Do ponto de vista computacional, um problema resolvido usando recursão envolve uma função que chama a si mesma até que o problema seja resolvido. Uma parte importante desse tipo de solução é a definição do ponto de parada da recursão, quando a função para de chamar a si mesma e começar a retornar os valores para as chamadas mais \"acima\". Vejamos um exemplo de recursão para o cálculo do fatorial de um número *n*:"
      ]
    },
    {
      "cell_type": "code",
      "execution_count": null,
      "metadata": {
        "id": "8f1qUWx6uTQ_",
        "outputId": "1beaf2a3-bc56-4ff5-a77a-5052d68ba118"
      },
      "outputs": [
        {
          "data": {
            "text/plain": [
              "(1, 1, 120)"
            ]
          },
          "execution_count": 13,
          "metadata": {},
          "output_type": "execute_result"
        }
      ],
      "source": [
        "def factorial(n):\n",
        "  if n == 0:\n",
        "    return 1\n",
        "  else:\n",
        "    return n * factorial(n - 1)\n",
        "\n",
        "factorial(0), factorial(1), factorial(5)"
      ]
    },
    {
      "cell_type": "markdown",
      "metadata": {
        "id": "Q6TKfPzYuTRA"
      },
      "source": [
        "Agora implemente uma função recursiva que recebe um número e retorna o número correspondente na sequência de Fibonacci."
      ]
    },
    {
      "cell_type": "code",
      "execution_count": 60,
      "metadata": {
        "id": "UMeA2cyfuTRA",
        "outputId": "d6f77053-d78f-4b02-edb7-0019279d0c7f",
        "colab": {
          "base_uri": "https://localhost:8080/"
        }
      },
      "outputs": [
        {
          "output_type": "execute_result",
          "data": {
            "text/plain": [
              "7"
            ]
          },
          "metadata": {},
          "execution_count": 60
        }
      ],
      "source": [
        "def fibonacci_of(n: int):\n",
        "  if n in {0, 1}:\n",
        "    return n\n",
        "  return fibonacci_of(n - 1) + fibonacci_of(n - 2)\n",
        "\n",
        "def get_number_fibonacci(number: int) -> int:\n",
        "  cont = 1\n",
        "\n",
        "  while True:\n",
        "    if fibonacci_of(cont) == number:\n",
        "      break\n",
        "\n",
        "    cont += 1\n",
        "\n",
        "  return cont\n",
        "  \n",
        "\n",
        "get_number_fibonacci(13)"
      ]
    },
    {
      "cell_type": "markdown",
      "metadata": {
        "id": "im-5WHmuuTRA"
      },
      "source": [
        "1.26. (Algoritmo de ordenação: Bubble sort). Bubble sort é um algoritmo muito simples. Ele começa no início da lista e compara os dois primeiros elementos. Se o primeiro for maior do que o segundo, eles são trocados. Esse processo se repete para cada par subsequente, até o final da lista. Depois o algoritmo volta ao início da lista e recomeça o processo, repetindo-o até não haver mais trocas. Implemente uma função que recebe uma lista e retorna seus elementos ordenados usando o algoritmo bubble sort."
      ]
    },
    {
      "cell_type": "code",
      "execution_count": null,
      "metadata": {
        "id": "O4chQOyfuTRA"
      },
      "outputs": [],
      "source": [
        "pass"
      ]
    },
    {
      "cell_type": "markdown",
      "metadata": {
        "id": "mtMPUeXtuTRB"
      },
      "source": [
        "1.27. (Algoritmo de ordenação: Insertion sort). Algoritmo relativamente eficiente para listas pequenas e comumente usado como parte de algoritmos mais sofisticados. Ele funciona da seguinte maneira: a cada iteração, o algoritmo remove um elemento da lista, encontra seu lugar na lista ordenada e insere o elemento. Assim, a parte ordenada da lista cresce a cada iteração. A ordenação é feita na própria lista. A cada posição da lista, o algoritmo compara seu valor com o maior valor da parte ordenada. Se for maior, o elemento é mntido e o algoritmo passa para a próxima posição. Se for menor, ele acha a posição correta do elemento na parte ordenada e move todos os valores maiores para abrir espaço e inserir o elemento. Implemente uma função que recebe uma lista e retorna seus elementos ordenados usando o algoritmo insertion sort."
      ]
    },
    {
      "cell_type": "code",
      "execution_count": null,
      "metadata": {
        "id": "olOiW6ituTRB"
      },
      "outputs": [],
      "source": [
        "pass       "
      ]
    },
    {
      "cell_type": "markdown",
      "metadata": {
        "id": "G-I-Z2mfuTRB"
      },
      "source": [
        "1.28. (Algoritmo de ordenação: Selection sort). O selection sort divide o array de entrada em duas partes: a parte ordenada, que ocupa a extremidade esquerda do array, e a parte não-ordenada, que ocupa a parte direita do array. O algoritmo busca o menor elemento da parte não-ordenada e o troca com o elemento mais à esquerda da parte não-ordenada, movendo a fronteira entre as duas partes do array uma posição para a direita. O selection sort é quadrático em todos os casos. Implemente uma função que recebe uma lista e retorna seus elementos ordenados usando o algoritmo selection sort."
      ]
    },
    {
      "cell_type": "code",
      "execution_count": null,
      "metadata": {
        "id": "clRK14gduTRB"
      },
      "outputs": [],
      "source": [
        "pass             "
      ]
    },
    {
      "cell_type": "markdown",
      "metadata": {
        "id": "uivHrFiAuTRB"
      },
      "source": [
        "1.29. (Algoritmo de ordenação: Merge sort). Usa a abordagem dividir para conquistar, aproveitando-se da facilidade de unir duas listas ordenadas em uma nova lista. O algoritmo divide a lista em n listas, cada uma com um elemeno. Uma lista com 1 elemento é considerada ordenada. Depois, o algoritmo repetidamente une arrays adjacentes, produzindo novos arrays ordenados, até que o único array restante contenha todos os elementos ordenados. Para unir dois arrays ordenados, o algoritmo seleciona o menor elemento de cada array e os compara, colocando o menor na primeira posição livre do novo array, e comparando o elemento que sobrou com o novo menor elemento do outro array e assim sucessivamente. Implemente uma função que recebe uma lista e retorna seus elementos ordenados usando o algoritmo merge sort.         "
      ]
    },
    {
      "cell_type": "code",
      "execution_count": null,
      "metadata": {
        "id": "SYnOurkquTRB"
      },
      "outputs": [],
      "source": [
        "pass"
      ]
    },
    {
      "cell_type": "markdown",
      "metadata": {
        "id": "2wL9IMnOuTRB"
      },
      "source": [
        "1.30. (Algoritmo de ordenação: Quicksort). Assim como o merge sort, o quicksort é um algoritmo que usa a abordagem dividir para conquistar, mais especificamente, uma abordagem de partição. O algoritmo seleciona um elemento, chamado de pivô, e coloca todos os elementos menores do que o pivô antes dele e todos os maiores depois dele. Os dois sub-arrays são então recursivamente ordenados, seguindo o mesmo processo. Implementações eficientes do quicksort estão entre os algoritmos de ordenação mais rápidos na prática. Implemente uma função que recebe uma lista e retorna seus elementos ordenados usando o algoritmo quicksort. "
      ]
    },
    {
      "cell_type": "code",
      "execution_count": null,
      "metadata": {
        "id": "WOBmScrauTRC"
      },
      "outputs": [],
      "source": [
        "pass"
      ]
    },
    {
      "cell_type": "code",
      "execution_count": null,
      "metadata": {
        "id": "EnlEbMTyuTRC"
      },
      "outputs": [],
      "source": []
    }
  ],
  "metadata": {
    "kernelspec": {
      "display_name": "Python 3",
      "language": "python",
      "name": "python3"
    },
    "language_info": {
      "codemirror_mode": {
        "name": "ipython",
        "version": 3
      },
      "file_extension": ".py",
      "mimetype": "text/x-python",
      "name": "python",
      "nbconvert_exporter": "python",
      "pygments_lexer": "ipython3",
      "version": "3.11.1"
    },
    "vscode": {
      "interpreter": {
        "hash": "5238573367df39f7286bb46f9ff5f08f63a01a80960060ce41e3c79b190280fa"
      }
    },
    "colab": {
      "provenance": []
    }
  },
  "nbformat": 4,
  "nbformat_minor": 0
}